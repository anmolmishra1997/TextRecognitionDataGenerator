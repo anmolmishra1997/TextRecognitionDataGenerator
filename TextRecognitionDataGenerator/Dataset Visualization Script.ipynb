{
 "cells": [
  {
   "cell_type": "code",
   "execution_count": null,
   "metadata": {},
   "outputs": [],
   "source": [
    "import numpy as np\n",
    "\n",
    "# image_list = []\n",
    "text_list = {}\n",
    "word_list = {}\n",
    "for image_name in images_hdf5.keys():\n",
    "    image = images_hdf5[image_name][...]\n",
    "    text_list[image_name] = images_hdf5[image_name].attrs['txt']\n",
    "    word_list[image_name] = images_hdf5[image_name].attrs['wordBB']\n",
    "    jpeg_image = Image.fromarray(image, 'RGB')\n",
    "    image_list.append(jpeg_image)\n",
    "    jpeg_image.save('./JPEGImages/' + image_name + '.jpg')\n",
    "\n",
    "root_hdf5.close()"
   ]
  },
  {
   "cell_type": "code",
   "execution_count": null,
   "metadata": {},
   "outputs": [],
   "source": [
    "# def plot_bounding_box(image_id, box_list):\n",
    "#     image = np.array(image_list[image_id])\n",
    "#     boxes = np.array(word_list[image_id])  \n",
    "#     plt.close(1)\n",
    "#     plt.figure(1, figsize = (15, 15))\n",
    "#     plt.imshow(image)\n",
    "#     H, W = image.shape[:2]\n",
    "    \n",
    "#     for index in box_list:\n",
    "#         bb = boxes[:,:,index]\n",
    "#         x_min = min(bb[0,:])\n",
    "#         x_max = max(bb[0,:])\n",
    "#         y_min = min(bb[1,:])\n",
    "#         y_max = max(bb[1,:])\n",
    "#         plt.plot([x_min, x_min, x_max, x_max, x_min], [y_min, y_max, y_max, y_min, y_min], 'r')\n",
    "        \n",
    "#     plt.gca().set_xlim([0,W-1])\n",
    "#     plt.gca().set_ylim([H-1,0])\n",
    "#     plt.show(block=False)"
   ]
  },
  {
   "cell_type": "code",
   "execution_count": null,
   "metadata": {
    "scrolled": true
   },
   "outputs": [],
   "source": [
    "# plot_bounding_box(5,[10] )"
   ]
  },
  {
   "cell_type": "code",
   "execution_count": null,
   "metadata": {},
   "outputs": [],
   "source": [
    "# text_list[5]"
   ]
  },
  {
   "cell_type": "code",
   "execution_count": 1,
   "metadata": {},
   "outputs": [],
   "source": [
    "import xml.etree.cElementTree as ET\n",
    "from xml.etree.ElementTree import Element, SubElement, Comment, tostring\n",
    "import os\n",
    "import shutil\n",
    "import random\n",
    "import pickle\n",
    "from PIL import Image"
   ]
  },
  {
   "cell_type": "code",
   "execution_count": 2,
   "metadata": {},
   "outputs": [],
   "source": [
    "directory='./Refined_Dataset/'\n",
    "dataset='./out_fifth'\n",
    "val=0.10\n",
    "test=0.15"
   ]
  },
  {
   "cell_type": "code",
   "execution_count": 3,
   "metadata": {},
   "outputs": [],
   "source": [
    "validClass=['acrylic', 'cotton', 'linen', 'nylon', 'polyester', 'rayon', 'wool']"
   ]
  },
  {
   "cell_type": "code",
   "execution_count": 4,
   "metadata": {},
   "outputs": [],
   "source": [
    "test=val+test"
   ]
  },
  {
   "cell_type": "code",
   "execution_count": 5,
   "metadata": {},
   "outputs": [],
   "source": [
    "def check_and_mkdir(in_dir):\n",
    "    if not os.path.exists(in_dir):\n",
    "        print(\"Creating \"+in_dir+\"...\")\n",
    "        os.makedirs(in_dir)"
   ]
  },
  {
   "cell_type": "code",
   "execution_count": 6,
   "metadata": {},
   "outputs": [
    {
     "name": "stdout",
     "output_type": "stream",
     "text": [
      "Creating ./Refined_Dataset/...\n",
      "Creating ./Refined_Dataset/Annotations...\n",
      "Creating ./Refined_Dataset/ImageSets...\n",
      "Creating ./Refined_Dataset/JPEGImages...\n",
      "Creating ./Refined_Dataset/ImageSets/Main...\n"
     ]
    }
   ],
   "source": [
    "os.system('rm -rf '+directory)\n",
    "check_and_mkdir(directory)\n",
    "check_and_mkdir(directory+'Annotations')\n",
    "check_and_mkdir(directory+'ImageSets')\n",
    "check_and_mkdir(directory+'JPEGImages')\n",
    "check_and_mkdir(directory+'ImageSets'+os.sep+\"Main\")"
   ]
  },
  {
   "cell_type": "code",
   "execution_count": 7,
   "metadata": {},
   "outputs": [],
   "source": [
    "f_train=open(directory+\"ImageSets\"+os.sep+\"Main\"+os.sep+\"train.txt\",'w+')\n",
    "f_val=open(directory+\"ImageSets\"+os.sep+\"Main\"+os.sep+\"val.txt\",'w+')\n",
    "f_test=open(directory+\"ImageSets\"+os.sep+\"Main\"+os.sep+\"test.txt\",'w+')\n",
    "f_trainval=open(directory+\"ImageSets\"+os.sep+\"Main\"+os.sep+\"trainval.txt\",'w+')"
   ]
  },
  {
   "cell_type": "code",
   "execution_count": null,
   "metadata": {},
   "outputs": [],
   "source": [
    "def getXml(image_name,widthh,heightt):\n",
    "#     print(annotation_path)\n",
    "#     print(annotation_path.split('.jpg'))\n",
    "    \n",
    "#     annotation_path=annotation_path.split('.jpg')[0]+\".json\"\n",
    "#     if(not os.path.isfile(annotation_path)):\n",
    "#         return None\n",
    "#     jsonObj=json.load(open(annotation_path))\n",
    "\n",
    "    root = ET.Element(\"annotation\")\n",
    "    folder = ET.SubElement(root, \"folder\").text=\"0\"\n",
    "    filename = ET.SubElement(root, \"filename\").text=\"0\"\n",
    "    path = ET.SubElement(root, \"path\").text=\"0\"\n",
    "    source = ET.SubElement(root, \"source\")\n",
    "    database = ET.SubElement(source, \"database\").text=\"Unknown\"\n",
    "    size = ET.SubElement(root, \"size\")\n",
    "    width = ET.SubElement(size, \"width\").text=str(widthh)\n",
    "    height = ET.SubElement(size, \"height\").text=str(heightt)\n",
    "    depth = ET.SubElement(size, \"depth\").text='3'\n",
    "    segmented = ET.SubElement(root, \"segmented\").text='0'\n",
    "    bounding_boxes = pickle.load(open(os.path.join(dataset + '_bb_out', image_name + '_bb.p') , 'rb'))\n",
    "    text_annotations = pickle.load(open(os.path.join(dataset + '_bb_out', image_name + '_words.p'), 'rb'))\n",
    "    objs=len(bounding_boxes)\n",
    "    actualObj=0\n",
    "    \n",
    "    for i in range(objs):\n",
    "        object_name = text_annotations[i].lower()\n",
    "        bounding_box = bounding_boxes[i]\n",
    "        if(object_name not in validClass):\n",
    "            continue\n",
    "        actualObj+=1\n",
    "        object = ET.SubElement(root, \"object\")\n",
    "        name = ET.SubElement(object, \"name\").text=object_name\n",
    "        pose = ET.SubElement(object, \"pose\").text='Unspecified'\n",
    "        truncated = ET.SubElement(object, \"truncated\").text='0'\n",
    "        difficult = ET.SubElement(object, \"difficult\").text='0'\n",
    "        bbox = ET.SubElement(object, \"bndbox\")\n",
    "        xmin = ET.SubElement(bbox, \"xmin\").text=str(max(bounding_box[0],1))\n",
    "        ymin = ET.SubElement(bbox, \"ymin\").text=str(max(bounding_box[1],1))\n",
    "        xmax = ET.SubElement(bbox, \"xmax\").text=str(min(bounding_box[2],widthh-1))\n",
    "        ymax = ET.SubElement(bbox, \"ymax\").text=str(min(bounding_box[3],heightt-1))\n",
    "\n",
    "    if(actualObj==0):\n",
    "        return None\n",
    "    tree = ET.ElementTree(root)\n",
    "    return tree\n",
    "    "
   ]
  },
  {
   "cell_type": "code",
   "execution_count": null,
   "metadata": {},
   "outputs": [],
   "source": [
    "def get_bounding_box(image_name):\n",
    "    global word_list\n",
    "    boxes = np.array(word_list[image_name])\n",
    "    num_boxes = boxes.shape[-1]\n",
    "    bb_list = []\n",
    "\n",
    "    for index in range(num_boxes):\n",
    "        bb = boxes[:,:,index]\n",
    "        x_min = min(bb[0,:])\n",
    "        x_max = max(bb[0,:])\n",
    "        y_min = min(bb[1,:])\n",
    "        y_max = max(bb[1,:])\n",
    "        bb_list.append([x_min, y_min, x_max, y_max])\n",
    "    \n",
    "    return bb_list"
   ]
  },
  {
   "cell_type": "code",
   "execution_count": null,
   "metadata": {},
   "outputs": [],
   "source": [
    "counter=9466\n",
    "counter2=0\n",
    "val_arr=[]\n",
    "train_arr=[]\n",
    "test_arr=[]\n",
    "trainval_arr=[]\n",
    "for subdir, dirs, files in os.walk(dataset):\n",
    "    for f in files:\n",
    "        counter+=1\n",
    "        print(counter)\n",
    "        image_path=subdir+os.sep+f\n",
    "        annotation_path=image_path.lower()\n",
    "        im = Image.open(image_path)\n",
    "        if(im is None):\n",
    "            continue\n",
    "        width, height = im.size\n",
    "        tree=getXml(f[:-4],width,height)\n",
    "        if(tree is None):\n",
    "            continue\n",
    "        counter2+=1\n",
    "        file_counter_name = ('000000' + str(counter))[-6:]\n",
    "        shutil.copy2(image_path,directory+\"JPEGImages\"+os.sep+file_counter_name+\".jpg\")\n",
    "        tree.write(directory+\"Annotations\"+os.sep+os.sep+file_counter_name+\".xml\")\n",
    "        random_num=random.uniform(0, 1)\n",
    "        if(random_num<=val):\n",
    "            val_arr.append(file_counter_name)\n",
    "            trainval_arr.append(file_counter_name)\n",
    "        elif(random_num<=test):\n",
    "            test_arr.append(file_counter_name)\n",
    "        else:\n",
    "            train_arr.append(file_counter_name)\n",
    "            trainval_arr.append(file_counter_name)\n",
    "#         break\n",
    "print(counter2)"
   ]
  },
  {
   "cell_type": "code",
   "execution_count": 9,
   "metadata": {},
   "outputs": [],
   "source": [
    "def printList(lis,filehandler):\n",
    "    for item in lis:\n",
    "        print(item, file=filehandler)"
   ]
  },
  {
   "cell_type": "code",
   "execution_count": 10,
   "metadata": {},
   "outputs": [],
   "source": [
    "printList(val_arr,f_val)\n",
    "printList(train_arr,f_train)\n",
    "printList(test_arr,f_test)\n",
    "printList(trainval_arr,f_trainval)"
   ]
  },
  {
   "cell_type": "code",
   "execution_count": 11,
   "metadata": {},
   "outputs": [],
   "source": [
    "f_test.close()\n",
    "f_val.close()\n",
    "f_train.close()\n",
    "f_trainval.close()"
   ]
  },
  {
   "cell_type": "code",
   "execution_count": 8,
   "metadata": {},
   "outputs": [],
   "source": [
    "val_arr=[]\n",
    "train_arr=[]\n",
    "test_arr=[]\n",
    "trainval_arr=[]\n",
    "for i in range(1, 11467):\n",
    "    random_num=random.uniform(0, 1)\n",
    "    file_counter_name = ('000000' + str(i))[-6:]\n",
    "    if(random_num<=val):\n",
    "        val_arr.append(file_counter_name)\n",
    "        trainval_arr.append(file_counter_name)\n",
    "    elif(random_num<=test):\n",
    "        test_arr.append(file_counter_name)\n",
    "    else:\n",
    "        train_arr.append(file_counter_name)\n",
    "        trainval_arr.append(file_counter_name)"
   ]
  },
  {
   "cell_type": "code",
   "execution_count": null,
   "metadata": {},
   "outputs": [],
   "source": []
  }
 ],
 "metadata": {
  "kernelspec": {
   "display_name": "Environment (conda_pytorch_p36)",
   "language": "python",
   "name": "conda_pytorch_p36"
  },
  "language_info": {
   "codemirror_mode": {
    "name": "ipython",
    "version": 3
   },
   "file_extension": ".py",
   "mimetype": "text/x-python",
   "name": "python",
   "nbconvert_exporter": "python",
   "pygments_lexer": "ipython3",
   "version": "3.6.5"
  }
 },
 "nbformat": 4,
 "nbformat_minor": 2
}
